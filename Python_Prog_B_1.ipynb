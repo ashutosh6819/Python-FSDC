{
 "cells": [
  {
   "cell_type": "markdown",
   "id": "d2b4aa1b",
   "metadata": {},
   "source": [
    "Q1. Write a Python program to print &quot;Hello Python&quot;?"
   ]
  },
  {
   "cell_type": "code",
   "execution_count": 1,
   "id": "1cde07b9",
   "metadata": {},
   "outputs": [
    {
     "name": "stdout",
     "output_type": "stream",
     "text": [
      "Hello Python\n"
     ]
    }
   ],
   "source": [
    "print(\"Hello Python\")"
   ]
  },
  {
   "cell_type": "markdown",
   "id": "c9be4336",
   "metadata": {},
   "source": [
    "Q2. Write a Python program to do arithmetical operations addition and division.?"
   ]
  },
  {
   "cell_type": "code",
   "execution_count": 5,
   "id": "9ecc51a4",
   "metadata": {},
   "outputs": [
    {
     "name": "stdout",
     "output_type": "stream",
     "text": [
      "1.0\n"
     ]
    }
   ],
   "source": [
    "class arithmetical_operation():\n",
    "    def add(num1,num2):\n",
    "        sum_all =  num1+num2\n",
    "        print(sum_all)\n",
    "        \n",
    "    def divide(num1,num2):\n",
    "        did = num1/num2\n",
    "        print(did)\n",
    "        \n",
    "arithmetical_operation.divide(5,5)"
   ]
  },
  {
   "cell_type": "markdown",
   "id": "1ca0d19f",
   "metadata": {},
   "source": [
    "Q3. Write a Python program to find the area of a triangle?"
   ]
  },
  {
   "cell_type": "code",
   "execution_count": 14,
   "id": "f1de1fda",
   "metadata": {},
   "outputs": [
    {
     "name": "stdout",
     "output_type": "stream",
     "text": [
      "Area of a Rectangle is: 24.00\n"
     ]
    }
   ],
   "source": [
    "def Area_of_Rectangle(width, height):\n",
    "    Area = width * height/2\n",
    "    print(\"Area of a Rectangle is: %.2f\" %Area)\n",
    "    \n",
    "Area_of_Rectangle(8, 6)"
   ]
  },
  {
   "cell_type": "markdown",
   "id": "b59b3766",
   "metadata": {},
   "source": [
    "Q4. Write a Python program to swap two variables?"
   ]
  },
  {
   "cell_type": "code",
   "execution_count": 15,
   "id": "b87a34f9",
   "metadata": {},
   "outputs": [
    {
     "name": "stdout",
     "output_type": "stream",
     "text": [
      "Value of x: 5 Value of y: 4\n"
     ]
    }
   ],
   "source": [
    "def swap(x,y):\n",
    "    x, y = y, x\n",
    "\n",
    "    print(\"Value of x:\", x,\"Value of y:\", y)\n",
    "    \n",
    "swap(4,5)"
   ]
  },
  {
   "cell_type": "markdown",
   "id": "e71d6a4e",
   "metadata": {},
   "source": [
    "Q5. Write a Python program to generate a random number?"
   ]
  },
  {
   "cell_type": "code",
   "execution_count": 27,
   "id": "c2fbbbbf",
   "metadata": {},
   "outputs": [
    {
     "data": {
      "text/plain": [
       "5"
      ]
     },
     "execution_count": 27,
     "metadata": {},
     "output_type": "execute_result"
    }
   ],
   "source": [
    "import numpy as np\n",
    "np.random.randint(10)"
   ]
  },
  {
   "cell_type": "code",
   "execution_count": null,
   "id": "238aad22",
   "metadata": {},
   "outputs": [],
   "source": []
  }
 ],
 "metadata": {
  "kernelspec": {
   "display_name": "Python 3",
   "language": "python",
   "name": "python3"
  },
  "language_info": {
   "codemirror_mode": {
    "name": "ipython",
    "version": 3
   },
   "file_extension": ".py",
   "mimetype": "text/x-python",
   "name": "python",
   "nbconvert_exporter": "python",
   "pygments_lexer": "ipython3",
   "version": "3.8.8"
  }
 },
 "nbformat": 4,
 "nbformat_minor": 5
}
