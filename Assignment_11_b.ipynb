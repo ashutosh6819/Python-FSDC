{
 "cells": [
  {
   "cell_type": "markdown",
   "id": "b8775f26",
   "metadata": {},
   "source": [
    "Q1. Create an assert statement that throws an AssertionError if the variable spam is a negative integer."
   ]
  },
  {
   "cell_type": "code",
   "execution_count": 20,
   "id": "647f4cb9",
   "metadata": {},
   "outputs": [
    {
     "name": "stdout",
     "output_type": "stream",
     "text": [
      "-3\n",
      "Negative value\n"
     ]
    }
   ],
   "source": [
    "\"\"\"Q1. Create an assert statement that throws an AssertionError\n",
    "if the variable spam is a negative integer.\"\"\"\n",
    "\"Answer \"\"\"\n",
    "\n",
    "try:\n",
    "    a = int(input())\n",
    "    assert a > 0 , \"Negative value\"\n",
    "    print(a)\n",
    "except AssertionError as e:\n",
    "    print(e)"
   ]
  },
  {
   "cell_type": "markdown",
   "id": "72057f53",
   "metadata": {},
   "source": [
    "Q2. Write an assert statement that triggers an AssertionError if the variables eggs and bacon contain strings that are the same as each other, even if their cases are different (that is, 'hello' and 'hello' are\n",
    "considered the same, and 'goodbye' and 'GOODbye' are also considered the same).\n"
   ]
  },
  {
   "cell_type": "code",
   "execution_count": 5,
   "id": "fd361095",
   "metadata": {},
   "outputs": [
    {
     "name": "stdout",
     "output_type": "stream",
     "text": [
      "re\n",
      "ER\n"
     ]
    }
   ],
   "source": [
    "try:\n",
    "    eggs = input()\n",
    "    bacon = input()\n",
    "    assert eggs.lower() != bacon.lower() , \"Same \"\n",
    "except Exception as e:\n",
    "    print(e)"
   ]
  },
  {
   "cell_type": "markdown",
   "id": "069c2f93",
   "metadata": {},
   "source": [
    "Q3. Create an assert statement that throws an AssertionError every time.\n",
    "\n"
   ]
  },
  {
   "cell_type": "code",
   "execution_count": 6,
   "id": "9e06d6db",
   "metadata": {},
   "outputs": [
    {
     "name": "stdout",
     "output_type": "stream",
     "text": [
      "e\n",
      "r\n",
      "True\n"
     ]
    }
   ],
   "source": [
    "try:\n",
    "    eggs = input()\n",
    "    bacon = input()\n",
    "    assert False ,  eggs.lower() != bacon.lower()\n",
    "except Exception as e:\n",
    "    print(e)"
   ]
  },
  {
   "cell_type": "markdown",
   "id": "3ff60fbe",
   "metadata": {},
   "source": [
    "Q4. What are the two lines that must be present in your software in order to call logging.debug()?\n",
    "\n"
   ]
  },
  {
   "cell_type": "code",
   "execution_count": 7,
   "id": "6a92daa1",
   "metadata": {},
   "outputs": [
    {
     "data": {
      "text/plain": [
       "\"import logging\\nlogging.basicConfig(level=logging.DEBUG, format=' %(asctime)s -%(levelname)s - %(message)s')\""
      ]
     },
     "execution_count": 7,
     "metadata": {},
     "output_type": "execute_result"
    }
   ],
   "source": [
    "\"\"\"To be able to call logging.debug(), you must have these two lines at the start of your program:\n",
    "\"\"\"\n",
    "\n",
    "\"\"\"import logging\n",
    "logging.basicConfig(level=logging.DEBUG, format=' %(asctime)s -%(levelname)s - %(message)s')\"\"\""
   ]
  },
  {
   "cell_type": "markdown",
   "id": "6dd0aebf",
   "metadata": {},
   "source": [
    "Q5. What are the two lines that your program must have in order to have\n",
    "logging.debug() send a logging message to a file named programLog.txt?\n"
   ]
  },
  {
   "cell_type": "code",
   "execution_count": 8,
   "id": "c5eca06e",
   "metadata": {},
   "outputs": [
    {
     "data": {
      "text/plain": [
       "\"import logging\\nlogging.basicConfig(filename = 'programlog.txt' , level=logging.DEBUG , format=' %(asctime)s -%(levelname)s - %(message)s')\""
      ]
     },
     "execution_count": 8,
     "metadata": {},
     "output_type": "execute_result"
    }
   ],
   "source": [
    "#To be able to send logging messages to a file named programLog.txt with logging.debug(), you must have these two lines at the start of your program:\n",
    "\n",
    "\"\"\"import logging\n",
    "logging.basicConfig(filename = 'programlog.txt' , level=logging.DEBUG , format=' %(asctime)s -%(levelname)s - %(message)s')\"\"\""
   ]
  },
  {
   "cell_type": "markdown",
   "id": "df5c1e23",
   "metadata": {},
   "source": [
    "Q6. What are the five levels of logging?"
   ]
  },
  {
   "cell_type": "code",
   "execution_count": 9,
   "id": "ad7ebb14",
   "metadata": {},
   "outputs": [],
   "source": [
    "#Critical\n",
    "#ERROR \n",
    "#WARNING\n",
    "#INFO\n",
    "#DEBUG"
   ]
  },
  {
   "cell_type": "markdown",
   "id": "befa24a4",
   "metadata": {},
   "source": [
    "Q7. What line of code would you add to your software to disable all logging messages?"
   ]
  },
  {
   "cell_type": "code",
   "execution_count": 12,
   "id": "d6bf5aef",
   "metadata": {},
   "outputs": [],
   "source": [
    "#logging.disable(logging.CRITICAL)"
   ]
  },
  {
   "cell_type": "markdown",
   "id": "f5d1fc73",
   "metadata": {},
   "source": [
    "Q8.Why is using logging messages better than using print() to display the same message?"
   ]
  },
  {
   "cell_type": "markdown",
   "id": "560e30bd",
   "metadata": {},
   "source": [
    "Easy to see where and when (even what line no.) a logging call is being made from. You can log to files, sockets, pretty much anything, all at the same time. You can differentiate your logging based on severity"
   ]
  },
  {
   "cell_type": "markdown",
   "id": "200a76ca",
   "metadata": {},
   "source": [
    "\n",
    "Q9. What are the differences between the Step Over, Step In, and Step Out buttons in the debugger?\n"
   ]
  },
  {
   "cell_type": "markdown",
   "id": "0e33440a",
   "metadata": {},
   "source": [
    "Step Over: Step Over will enable, only after the debugging is started with Step Into / Run From Step / Run to Step. ... Step Out: Step Out will enable, only after the debugging cursor gets inside a procedure. The cursor will get inside a procedure only when the test is debugged with Step Into."
   ]
  },
  {
   "cell_type": "markdown",
   "id": "0d8f61f8",
   "metadata": {},
   "source": [
    "\n",
    "Q10.After you click Continue, when will the debugger stop ?\n",
    "\n"
   ]
  },
  {
   "cell_type": "markdown",
   "id": "1feb0580",
   "metadata": {},
   "source": [
    "Continue execution, only stop when a breakpoint is encountered."
   ]
  },
  {
   "cell_type": "markdown",
   "id": "d375a293",
   "metadata": {},
   "source": [
    "Q11. What is the concept of a breakpoint?"
   ]
  },
  {
   "cell_type": "markdown",
   "id": "34783b88",
   "metadata": {},
   "source": [
    "The Python breakpoint() built-in function is a tool that allows developers to set points in code at which a debugger is called. By default, this function results in an instantiation of Python's native debugger class"
   ]
  },
  {
   "cell_type": "code",
   "execution_count": null,
   "id": "bd8fa603",
   "metadata": {},
   "outputs": [],
   "source": []
  }
 ],
 "metadata": {
  "kernelspec": {
   "display_name": "Python 3",
   "language": "python",
   "name": "python3"
  },
  "language_info": {
   "codemirror_mode": {
    "name": "ipython",
    "version": 3
   },
   "file_extension": ".py",
   "mimetype": "text/x-python",
   "name": "python",
   "nbconvert_exporter": "python",
   "pygments_lexer": "ipython3",
   "version": "3.8.8"
  }
 },
 "nbformat": 4,
 "nbformat_minor": 5
}
