{
 "cells": [
  {
   "cell_type": "markdown",
   "id": "88dfcdcf",
   "metadata": {},
   "source": [
    "Q1. Write a Python program to convert kilometers to miles?"
   ]
  },
  {
   "cell_type": "code",
   "execution_count": 2,
   "id": "27e747e9",
   "metadata": {},
   "outputs": [
    {
     "name": "stdout",
     "output_type": "stream",
     "text": [
      "6.21371\n"
     ]
    }
   ],
   "source": [
    "def K_to_M(num1):\n",
    "    print (num1*0.621371)\n",
    "    \n",
    "K_to_M(10)"
   ]
  },
  {
   "cell_type": "markdown",
   "id": "8d7261a4",
   "metadata": {},
   "source": [
    "Q2. Write a Python program to convert Celsius to Fahrenheit?"
   ]
  },
  {
   "cell_type": "code",
   "execution_count": 7,
   "id": "921c60cf",
   "metadata": {},
   "outputs": [
    {
     "name": "stdout",
     "output_type": "stream",
     "text": [
      "60.8\n"
     ]
    }
   ],
   "source": [
    "def C_to_F(Celsius):\n",
    "    print (Celsius*1.8+32)\n",
    "    \n",
    "C_to_F(16)"
   ]
  },
  {
   "cell_type": "markdown",
   "id": "13012fe5",
   "metadata": {},
   "source": [
    "Q3. Write a Python program to display calendar?"
   ]
  },
  {
   "cell_type": "code",
   "execution_count": 9,
   "id": "5b97af7d",
   "metadata": {},
   "outputs": [
    {
     "name": "stdout",
     "output_type": "stream",
     "text": [
      "     August 22\n",
      "Mo Tu We Th Fr Sa Su\n",
      " 1  2  3  4  5  6  7\n",
      " 8  9 10 11 12 13 14\n",
      "15 16 17 18 19 20 21\n",
      "22 23 24 25 26 27 28\n",
      "29 30 31\n",
      "\n"
     ]
    }
   ],
   "source": [
    "import calendar\n",
    "print(calendar.month(22,8))"
   ]
  },
  {
   "cell_type": "markdown",
   "id": "3ec4c91b",
   "metadata": {},
   "source": [
    "Q4. Write a Python program to solve quadratic equation?"
   ]
  },
  {
   "cell_type": "code",
   "execution_count": 10,
   "id": "f5c11ef6",
   "metadata": {},
   "outputs": [
    {
     "name": "stdout",
     "output_type": "stream",
     "text": [
      " real and different roots \n",
      "2.0\n",
      "-12.0\n"
     ]
    }
   ],
   "source": [
    "import math\n",
    "def equationroots( a, b, c):\n",
    "\n",
    "    dis = b * b - 4 * a * c\n",
    "    sqrt_val = math.sqrt(abs(dis))\n",
    "\n",
    "    if dis > 0:\n",
    "        print(\" real and different roots \")\n",
    "        print((-b + sqrt_val)/(2 * a))\n",
    "        print((-b - sqrt_val)/(2 * a))\n",
    "\n",
    "    elif dis == 0:\n",
    "        print(\" real and same roots\")\n",
    "        print(-b / (2 * a))\n",
    "    else:\n",
    "        print(\"Complex Roots\")\n",
    "        print(- b / (2 * a), \" + i\", sqrt_val)\n",
    "        print(- b / (2 * a), \" - i\", sqrt_val)\n",
    "        \n",
    "a = 1\n",
    "b = 10\n",
    "c = -24\n",
    "\n",
    "if a == 0:\n",
    "        print(\"Input correct quadratic equation\")\n",
    "\n",
    "else:\n",
    "    equationroots(a, b, c)\n"
   ]
  },
  {
   "cell_type": "markdown",
   "id": "3d6204b5",
   "metadata": {},
   "source": [
    "Q5. Write a Python program to swap two variables without temp variable?"
   ]
  },
  {
   "cell_type": "code",
   "execution_count": 11,
   "id": "3e046247",
   "metadata": {},
   "outputs": [
    {
     "name": "stdout",
     "output_type": "stream",
     "text": [
      "Value of x: 5 Value of y: 4\n"
     ]
    }
   ],
   "source": [
    "def swap(x,y):\n",
    "    x, y = y, x\n",
    "\n",
    "    print(\"Value of x:\", x,\"Value of y:\", y)\n",
    "    \n",
    "swap(4,5)"
   ]
  },
  {
   "cell_type": "code",
   "execution_count": null,
   "id": "8420c3b0",
   "metadata": {},
   "outputs": [],
   "source": []
  }
 ],
 "metadata": {
  "kernelspec": {
   "display_name": "Python 3",
   "language": "python",
   "name": "python3"
  },
  "language_info": {
   "codemirror_mode": {
    "name": "ipython",
    "version": 3
   },
   "file_extension": ".py",
   "mimetype": "text/x-python",
   "name": "python",
   "nbconvert_exporter": "python",
   "pygments_lexer": "ipython3",
   "version": "3.8.8"
  }
 },
 "nbformat": 4,
 "nbformat_minor": 5
}
