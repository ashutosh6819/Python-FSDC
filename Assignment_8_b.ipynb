{
 "cells": [
  {
   "cell_type": "markdown",
   "id": "7024c398",
   "metadata": {},
   "source": [
    "Q1. Is the Python Standard Library included with PyInputPlus?\n",
    "\n",
    "    Answer - No\n",
    "\n",
    "\n",
    "Q2. Why is PyInputPlus commonly imported with import pyinputplus as pypi?\n",
    "\n",
    "    Answer - You can import the module with import pyinputplus as pyip so that you can enter a shorter name when calling the module's functions\n",
    "\n",
    "\n",
    "Q3. How do you distinguish between inputInt() and inputFloat()?\n",
    "\n",
    "    Answer - inputfloat() Accepts a floating-point numeric value but inputint() only Accepts a numeric value.\n",
    "    \n",
    "    \n",
    "Q4. Using PyInputPlus, how do you ensure that the user enters a whole number between 0 and 99?\n",
    "\n",
    "    Answer - PyInputPlus.inputint(min=0,max=99)\n",
    "\n",
    "\n",
    "Q5. What is transferred to the keyword arguments allowRegexes and blockRegexes?\n",
    "\n",
    "    Answer - \n",
    "    \n",
    "    \n",
    "Q6. If a blank input is entered three times, what does inputStr(limit=3) do?\n",
    "\n",
    "    Answer - It will raise retryException.\n",
    "    \n",
    "    \n",
    "Q7. If blank input is entered three times, what does inputStr(limit=3, default= 'hello') do?\n",
    "\n",
    "    Answer - After three blank it will not raise exception but  altomatically take hello as input."
   ]
  },
  {
   "cell_type": "code",
   "execution_count": null,
   "id": "ae794116",
   "metadata": {},
   "outputs": [],
   "source": []
  }
 ],
 "metadata": {
  "kernelspec": {
   "display_name": "Python 3",
   "language": "python",
   "name": "python3"
  },
  "language_info": {
   "codemirror_mode": {
    "name": "ipython",
    "version": 3
   },
   "file_extension": ".py",
   "mimetype": "text/x-python",
   "name": "python",
   "nbconvert_exporter": "python",
   "pygments_lexer": "ipython3",
   "version": "3.8.8"
  }
 },
 "nbformat": 4,
 "nbformat_minor": 5
}
