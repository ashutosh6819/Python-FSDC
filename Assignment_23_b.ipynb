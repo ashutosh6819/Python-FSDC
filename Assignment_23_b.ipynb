{
 "cells": [
  {
   "cell_type": "markdown",
   "id": "7ec73d5b",
   "metadata": {},
   "source": [
    "Q1. What is the result of the code, and why?\n",
    "\n",
    "    def func(a, b=6, c=8):\n",
    "        print(a, b, c)\n",
    "\n",
    "    func(1, 2)\n",
    "    \n",
    "Answer - 1 2 8 because c value is already given so it taken .\n",
    "\n",
    "Q2. What is the result of this code, and why?\n",
    "\n",
    "    def func(a, b, c=5):\n",
    "        print(a, b, c)\n",
    "    func(1, c=3, b=2)\n",
    "    \n",
    "Answer - 1 2 3 even the value is already is given inside the function but then the new value is assign outside the function.\n",
    "\n",
    "Q3. How about this code: what is its result, and why?\n",
    "\n",
    "    def func(a, *pargs):\n",
    "        print(a, pargs)\n",
    "    func(1, 2, 3)\n",
    "    \n",
    "Answer - \n",
    "\n",
    "Q4. What does this code print, and why?\n",
    "        \n",
    "     def func(a, **kargs):\n",
    "        print(a, kargs)\n",
    " \n",
    "    func(a=1, c=3, b=2)\n",
    "\n",
    "Q5. What gets printed by this, and explain?\n",
    "\n",
    "\n",
    "    def func(a, b, c=8, d=5): \n",
    "        print(a, b, c, d)\n",
    "\n",
    "    func(1, *(5, 6))\n",
    "  \n",
    "Answer - 1 5 6 5 as the value of d is given so it took it from the function.\n",
    "\n",
    "Q6. what is the result of this, and explain?\n",
    "\n",
    "\n",
    "    def func(a, b, c): a = 2; b[0] ='x';c['a'] = 'y'\n",
    "        l=1; m=[1]; n={'a':0}\n",
    "\n",
    "    func(l, m, n)\n",
    "\n",
    "    l, m, n\n",
    "\n",
    "Answer - "
   ]
  },
  {
   "cell_type": "code",
   "execution_count": null,
   "id": "cfb2903d",
   "metadata": {},
   "outputs": [],
   "source": []
  }
 ],
 "metadata": {
  "kernelspec": {
   "display_name": "Python 3",
   "language": "python",
   "name": "python3"
  },
  "language_info": {
   "codemirror_mode": {
    "name": "ipython",
    "version": 3
   },
   "file_extension": ".py",
   "mimetype": "text/x-python",
   "name": "python",
   "nbconvert_exporter": "python",
   "pygments_lexer": "ipython3",
   "version": "3.8.8"
  }
 },
 "nbformat": 4,
 "nbformat_minor": 5
}
