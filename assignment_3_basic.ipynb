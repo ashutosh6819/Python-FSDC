{
 "cells": [
  {
   "cell_type": "markdown",
   "id": "dbad6a86",
   "metadata": {},
   "source": [
    "Q1. Why are functions advantageous to have in your programs?\n",
    "\n",
    "    Answer -\n",
    "    functions advantageous to have in our programs because function reduces the need for dublicate code. this make notes shorter , easier to read and to undate."
   ]
  },
  {
   "cell_type": "markdown",
   "id": "721a55f4",
   "metadata": {},
   "source": [
    "Q2. When does the code in a function run: when it's specified or when it's called?\n",
    "\n",
    "Answer - "
   ]
  },
  {
   "cell_type": "markdown",
   "id": "bc63ec56",
   "metadata": {},
   "source": [
    "Q3. What statement creates a function?\n",
    "\n",
    "    Answer - 'def' keyword is a statement that creates a function."
   ]
  },
  {
   "cell_type": "markdown",
   "id": "df1f3c77",
   "metadata": {},
   "source": [
    "Q4. What is the difference between a function and a function call?\n",
    "\n",
    "    Answer - function is when we do code to genrate a function and function call is when we want to use it so we call the function\n"
   ]
  },
  {
   "cell_type": "markdown",
   "id": "4c2e00fd",
   "metadata": {},
   "source": [
    "Q5. How many global scopes are there in a Python program? How many local scopes?\n",
    "\n",
    "Answer -\n",
    "\n",
    "    There's only one global Python scope per program execution. This scope remains in existence until the program terminates and all its names are forgotten. Otherwise, the next time you were to run the program, the names would remember their values from the previous run.\n",
    "\n",
    "    Local (or function) scope is the code block or body of any Python function or lambda expression. This Python scope contains the names that you define inside the function. These names will only be visible from the code of the function."
   ]
  },
  {
   "cell_type": "markdown",
   "id": "8b8e8926",
   "metadata": {},
   "source": [
    "Q6. What happens to variables in a local scope when the function call returns?\n",
    "\n",
    "    Answer - When the execution of the function terminates (returns), the local variables are destroyed. Codelens helps you visualize this because the local variables disappear after the function returns."
   ]
  },
  {
   "cell_type": "markdown",
   "id": "7710621a",
   "metadata": {},
   "source": [
    "Q7. What is the concept of a return value? Is it possible to have a return value in an expression?\n",
    "\n",
    "Answer - \n",
    "    \n",
    "    A return is a value that a function returns to the calling script or function when it completes its task. A return value can be any one of the four variable types: handle, integer, object, or string. The type of value your function returns depends largely on the task it performs.\n",
    "    \n",
    "    No it's possible to have return value in an  expression"
   ]
  },
  {
   "cell_type": "markdown",
   "id": "39a0e1c4",
   "metadata": {},
   "source": [
    "Q8. If a function does not have a return statement, what is the return value of a call to that function?\n",
    "\n",
    "    Answer - If a function doesn't specify a return value, it returns None . In an if/then conditional statement, None evaluates to False."
   ]
  },
  {
   "cell_type": "markdown",
   "id": "2d07fa7a",
   "metadata": {},
   "source": [
    "Q9. How do you make a function variable refer to the global variable?\n",
    "\n",
    "    Answer - If you want to refer to a global variable in a function, you can use the global keyword to declare which variables are global."
   ]
  },
  {
   "cell_type": "markdown",
   "id": "7a028839",
   "metadata": {},
   "source": [
    "Q10. What is the data type of None?\n",
    "\n",
    "    Answer - None is used to define a null value. It is not the same as an empty string, False, or a zero. It is a data type of the class NoneType object. Assigning a value of None to a variable is one way to reset it to its original, empty state."
   ]
  },
  {
   "cell_type": "markdown",
   "id": "9cad09a1",
   "metadata": {},
   "source": [
    "Q11. What does the sentence import areallyourpetsnamederic do?\n",
    "\n",
    "Answer"
   ]
  },
  {
   "cell_type": "markdown",
   "id": "3b08eb6f",
   "metadata": {},
   "source": [
    "Q12. If you had a bacon() feature in a spam module, what would you call it after importing spam?\n",
    "\n",
    "Answer - spam.bacon()"
   ]
  },
  {
   "cell_type": "code",
   "execution_count": null,
   "id": "f2c94d31",
   "metadata": {},
   "outputs": [],
   "source": []
  }
 ],
 "metadata": {
  "kernelspec": {
   "display_name": "Python 3",
   "language": "python",
   "name": "python3"
  },
  "language_info": {
   "codemirror_mode": {
    "name": "ipython",
    "version": 3
   },
   "file_extension": ".py",
   "mimetype": "text/x-python",
   "name": "python",
   "nbconvert_exporter": "python",
   "pygments_lexer": "ipython3",
   "version": "3.8.8"
  }
 },
 "nbformat": 4,
 "nbformat_minor": 5
}
