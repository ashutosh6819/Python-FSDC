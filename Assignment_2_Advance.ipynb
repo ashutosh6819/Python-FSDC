{
 "cells": [
  {
   "cell_type": "markdown",
   "id": "6c5a7a80",
   "metadata": {},
   "source": [
    "Q1. What is the relationship between classes and modules?\n",
    "\n",
    "    Answer - The difference between a class and a module in python is that a class is used to define a blueprint for a given object, whereas a module is used to reuse a given piece of code inside another program.\n",
    "\n",
    "Q2. How do you make instances and classes?\n",
    "\n",
    "    Answer - To create instances of a class, you call the class using class name and pass in whatever arguments its __init__ method accepts.\n",
    "\n",
    "Q3. Where and how should be class attributes created?\n",
    "\n",
    "    Answer - Class attributes belong to the class itself they will be shared by all the instances. Such attributes are defined in the class body parts usually at the top, for legibility.\n",
    "\n",
    "Q4. Where and how are instance attributes created?\n",
    "\n",
    "    Answer - Instance attributes are defined in the constructor. Defined directly inside a class. Defined inside a constructor using the self parameter\n",
    "\n",
    "Q5. What does the term &quot;self&quot; in a Python class mean?\n",
    "\n",
    "    Answer - self represents the instance of the class. By using the “self” keyword we can access the attributes and methods of the class in python. It binds the attributes with the given arguments\n",
    "\n",
    "Q6. How does a Python class handle operator overloading?\n",
    "\n",
    "    Answer - The operator overloading in Python means provide extended meaning beyond their predefined operational meaning. Such as, we use the \"+\" operator for adding two integers as well as joining two strings or merging two lists. We can achieve this as the \"+\" operator is overloaded by the \"int\" class and \"str\" class.\n",
    "\n",
    "Q7. When do you consider allowing operator overloading of your classes?\n",
    "\n",
    "    Answer - Consider that we have two objects which are a physical representation of a class (user-defined data type) and we have to add two objects with binary '+' operator it throws an error, because compiler don't know how to add two objects. So we define a method for an operator and that process is called operator overloading.\n",
    "\n",
    "Q8. What is the most popular form of operator overloading?\n",
    "\n",
    "    Answer - A very popular and convenient example is the Addition (+) operator.\n",
    "    \n",
    "Q9. What are the two most important concepts to grasp in order to comprehend Python OOP code?\n",
    "\n",
    "    Answer - The two most important concepts to grasp in order to comprehend python OOPs code are - \n",
    "    1. Inheritance\n",
    "    2. Polimorphism\n"
   ]
  },
  {
   "cell_type": "code",
   "execution_count": null,
   "id": "0b76225a",
   "metadata": {},
   "outputs": [],
   "source": []
  }
 ],
 "metadata": {
  "kernelspec": {
   "display_name": "Python 3",
   "language": "python",
   "name": "python3"
  },
  "language_info": {
   "codemirror_mode": {
    "name": "ipython",
    "version": 3
   },
   "file_extension": ".py",
   "mimetype": "text/x-python",
   "name": "python",
   "nbconvert_exporter": "python",
   "pygments_lexer": "ipython3",
   "version": "3.8.8"
  }
 },
 "nbformat": 4,
 "nbformat_minor": 5
}
