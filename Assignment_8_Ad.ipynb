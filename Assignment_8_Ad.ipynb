{
 "cells": [
  {
   "cell_type": "markdown",
   "id": "ffe793b9",
   "metadata": {},
   "source": [
    "Q1. What are the two latest user-defined exception constraints in Python 3.X?\n",
    "\n",
    "    Answer - The two latest user-define exception constraints in python 3.x are ZerodivisionError , TypeError.\n",
    "\n",
    "Q2. How are class-based exceptions that have been raised matched to handlers?\n",
    "\n",
    "    Answer -  exceptions can be handled using a try statement. The critical operation which can raise an exception is placed inside the try clause. The code that handles the exceptions is written in the except clause. We can thus choose what operations to perform once we have caught the exception.\n",
    "\n",
    "Q3. Describe two methods for attaching context information to exception artefacts.\n",
    "\n",
    "    Answer - By \n",
    "            1. raise IOError()\n",
    "            2. Exaption.message\n",
    "\n",
    "Q4. Why do you no longer use string-based exceptions?\n",
    "\n",
    "    Answer - Since classes have many nice properties when used as exceptions, it is desirable to migrate to a situation where classes are used exclusively. Prior to Python 1.5 alpha 4, Python's standard exceptions (IOError, TypeError, etc.) were defined as strings. Changing these to classes posed some particularly nasty backward compatibility problems.\n",
    "    \n",
    "    "
   ]
  },
  {
   "cell_type": "code",
   "execution_count": null,
   "id": "87457b80",
   "metadata": {},
   "outputs": [],
   "source": []
  }
 ],
 "metadata": {
  "kernelspec": {
   "display_name": "Python 3",
   "language": "python",
   "name": "python3"
  },
  "language_info": {
   "codemirror_mode": {
    "name": "ipython",
    "version": 3
   },
   "file_extension": ".py",
   "mimetype": "text/x-python",
   "name": "python",
   "nbconvert_exporter": "python",
   "pygments_lexer": "ipython3",
   "version": "3.8.8"
  }
 },
 "nbformat": 4,
 "nbformat_minor": 5
}
