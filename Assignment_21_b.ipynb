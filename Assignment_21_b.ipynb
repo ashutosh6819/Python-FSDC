{
 "cells": [
  {
   "cell_type": "code",
   "execution_count": 5,
   "id": "5afb343b",
   "metadata": {},
   "outputs": [],
   "source": [
    "#Q1. Add the current date to the text file today.txt as a string.\n",
    "\n",
    "import datetime\n",
    "current_datetime = datetime.datetime.now()\n",
    "current_datetime_str = str(current_datetime)\n",
    "\n",
    "file = open('today.txt','w')\n",
    "file.write(current_datetime_str)\n",
    "file.close()\n"
   ]
  },
  {
   "cell_type": "code",
   "execution_count": 7,
   "id": "40a68aef",
   "metadata": {},
   "outputs": [
    {
     "data": {
      "text/plain": [
       "'2022-08-11 21:51:11.964154'"
      ]
     },
     "execution_count": 7,
     "metadata": {},
     "output_type": "execute_result"
    }
   ],
   "source": [
    "#Q2. Read the text file today.txt into the string today_string.\n",
    "\n",
    "file = open('today.txt','r')\n",
    "file.read()"
   ]
  },
  {
   "cell_type": "code",
   "execution_count": null,
   "id": "f00ad593",
   "metadata": {},
   "outputs": [],
   "source": [
    "#3. Parse the date from today_string.\n"
   ]
  },
  {
   "cell_type": "code",
   "execution_count": 22,
   "id": "dd1e962b",
   "metadata": {},
   "outputs": [
    {
     "data": {
      "text/plain": [
       "['.ipynb_checkpoints',\n",
       " 'Assignment_21_b.ipynb',\n",
       " 'Assignment_23_b.ipynb',\n",
       " 'today.txt']"
      ]
     },
     "execution_count": 22,
     "metadata": {},
     "output_type": "execute_result"
    }
   ],
   "source": [
    "#4. List the files in your current directory\n",
    "\n",
    "import os\n",
    "os.listdir()"
   ]
  },
  {
   "cell_type": "code",
   "execution_count": 25,
   "id": "bd6fece7",
   "metadata": {},
   "outputs": [
    {
     "data": {
      "text/plain": [
       "['.ipynb_checkpoints',\n",
       " 'Assignment_21_b.ipynb',\n",
       " 'Assignment_23_b.ipynb',\n",
       " 'today.txt']"
      ]
     },
     "execution_count": 25,
     "metadata": {},
     "output_type": "execute_result"
    }
   ],
   "source": [
    "#5. Create a list of all of the files in your parent\\\n",
    "#directory(minimum five files should be available).\n",
    "\n",
    "\n",
    "import os\n",
    "os.listdir()"
   ]
  },
  {
   "cell_type": "code",
   "execution_count": 26,
   "id": "4bb6a891",
   "metadata": {},
   "outputs": [
    {
     "data": {
      "text/plain": [
       "'6. Use multiprocessing to create three separate processes.\\nMake each one wait a random number of seconds between one \\nand five, print the current time, and then exit.'"
      ]
     },
     "execution_count": 26,
     "metadata": {},
     "output_type": "execute_result"
    }
   ],
   "source": [
    "\"\"\"6. Use multiprocessing to create three separate processes.\n",
    "Make each one wait a random number of seconds between one \n",
    "and five, print the current time, and then exit.\"\"\"\n",
    "\n"
   ]
  },
  {
   "cell_type": "code",
   "execution_count": 29,
   "id": "68126812",
   "metadata": {},
   "outputs": [
    {
     "name": "stdout",
     "output_type": "stream",
     "text": [
      "1999-08-19 00:00:00\n"
     ]
    }
   ],
   "source": [
    "#7. Create a date object of your day of birth.\n",
    "\n",
    "import datetime\n",
    "Birth_date = datetime.datetime(1999,8,19)\n",
    "print(Birth_date)"
   ]
  },
  {
   "cell_type": "code",
   "execution_count": 31,
   "id": "1ddd3e32",
   "metadata": {},
   "outputs": [
    {
     "data": {
      "text/plain": [
       "'Thursday'"
      ]
     },
     "execution_count": 31,
     "metadata": {},
     "output_type": "execute_result"
    }
   ],
   "source": [
    "#8. What day of the week was your day of birth?\n",
    "\n",
    "import datetime\n",
    "import calendar\n",
    "\n",
    "def find_Day(date):\n",
    "    born = datetime.datetime.strptime(date, '%d %m %Y').weekday()\n",
    "    return calendar.day_name[born]\n",
    "\n",
    "date = '19 08 1999'\n",
    "find_Day(date)"
   ]
  },
  {
   "cell_type": "code",
   "execution_count": 43,
   "id": "9b2cedf4",
   "metadata": {},
   "outputs": [
    {
     "name": "stdout",
     "output_type": "stream",
     "text": [
      "2027-01-04\n"
     ]
    }
   ],
   "source": [
    "#9. When will you be (or when were you) 10,000 days old?\n",
    "\n",
    "import datetime\n",
    "import calendar\n",
    "\n",
    "def find_nth_day(date,nth_day):\n",
    "    born = datetime.datetime.strptime(date, '%d %m %Y')\n",
    "    end_date = born + datetime.timedelta(days=nth_day)\n",
    "    print (end_date.date())\n",
    "\n",
    "date = '19 08 1999'\n",
    "find_nth_day(date,10000)"
   ]
  },
  {
   "cell_type": "code",
   "execution_count": null,
   "id": "38e6cfcf",
   "metadata": {},
   "outputs": [],
   "source": []
  },
  {
   "cell_type": "code",
   "execution_count": null,
   "id": "ee8490aa",
   "metadata": {},
   "outputs": [],
   "source": []
  },
  {
   "cell_type": "code",
   "execution_count": null,
   "id": "6adcd783",
   "metadata": {},
   "outputs": [],
   "source": []
  }
 ],
 "metadata": {
  "kernelspec": {
   "display_name": "Python 3",
   "language": "python",
   "name": "python3"
  },
  "language_info": {
   "codemirror_mode": {
    "name": "ipython",
    "version": 3
   },
   "file_extension": ".py",
   "mimetype": "text/x-python",
   "name": "python",
   "nbconvert_exporter": "python",
   "pygments_lexer": "ipython3",
   "version": "3.8.8"
  }
 },
 "nbformat": 4,
 "nbformat_minor": 5
}
