{
 "cells": [
  {
   "cell_type": "markdown",
   "id": "76450af2",
   "metadata": {},
   "source": [
    "Q1. To what does a relative path refer?\n",
    "\n",
    "    Answer - A relative path refers to a location that is relative to a current directory.\n",
    "\n",
    "Q2. What does an absolute path start with your operating system?\n",
    "\n",
    "    Answer - An absolute path refers to the complete details needed to locate a file or folder, starting from the root element and ending with the other subdirectories\n",
    "\n",
    "Q3. What do the functions os.getcwd() and os.chdir() do?\n",
    "\n",
    "    Answer - \n",
    "    os.getcwd() - to get current directory\n",
    "    os.chdir()  - to change directory\n",
    "\n",
    "Q4. What are the . and .. folders?\n",
    "\n",
    "    Answer - The . is the current directory, while .. signifies the parent directory.\n",
    "\n",
    "Q5. In C:\\bacon\\eggs\\spam.txt, which part is the dir name, and which part is the base name?\n",
    "\n",
    "    Answer -\n",
    "    C:\\bacon\\eggs is dir name\n",
    "    spam.txt is base name\n",
    "\n",
    "Q6. What are the three “mode” arguments that can be passed to the open() function?\n",
    "\n",
    "    Answer - The string 'r' for read mode, 'w' for write mode, and 'a' for append mode\n",
    "\n",
    "Q7. What happens if an existing file is opened in write mode?\n",
    "\n",
    "    Answer - An existing file opened in write mode is erased and completely overwritten.\n",
    "\n",
    "Q8. How do you tell the difference between read() and readlines()?\n",
    "\n",
    "    Answer - The read() method returns the file's entire contents as a single string value. The readlines() method returns a list of strings, where each string is a line from the file's contents. \n",
    "\n",
    "Q9. What data structure does a shelf value resemble?\n",
    "\n",
    "    Answer -A shelf value resembles a dictionary value; it has keys and values, along with keys() and values() methods that work similarly to the dictionary methods of the same names."
   ]
  },
  {
   "cell_type": "code",
   "execution_count": null,
   "id": "f644d223",
   "metadata": {},
   "outputs": [],
   "source": []
  }
 ],
 "metadata": {
  "kernelspec": {
   "display_name": "Python 3",
   "language": "python",
   "name": "python3"
  },
  "language_info": {
   "codemirror_mode": {
    "name": "ipython",
    "version": 3
   },
   "file_extension": ".py",
   "mimetype": "text/x-python",
   "name": "python",
   "nbconvert_exporter": "python",
   "pygments_lexer": "ipython3",
   "version": "3.8.8"
  }
 },
 "nbformat": 4,
 "nbformat_minor": 5
}
