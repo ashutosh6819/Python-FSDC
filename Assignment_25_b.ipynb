{
 "cells": [
  {
   "cell_type": "markdown",
   "id": "65d2d869",
   "metadata": {},
   "source": [
    "Q1. What is the difference between enclosing a list comprehension in square brackets and parentheses?\n",
    "\n",
    "    Answer - Square brackets are lists while parentheses are tuples"
   ]
  },
  {
   "cell_type": "markdown",
   "id": "f61b14a5",
   "metadata": {},
   "source": [
    "2) What is the relationship between generators and iterators?"
   ]
  },
  {
   "cell_type": "markdown",
   "id": "af7d7037",
   "metadata": {},
   "source": [
    "Q3. What are the signs that a function is a generator function?\n",
    "\n",
    "    Answer- If a function contains at least one yield statement it becomes a generator function."
   ]
  },
  {
   "cell_type": "markdown",
   "id": "775c46f9",
   "metadata": {},
   "source": [
    "Q4. What is the purpose of a yield statement?\n",
    "\n",
    "\n",
    "    Answer - yield is a keyword we use in function as generator so it gives you a result not at once but it genrate the result in real time."
   ]
  },
  {
   "cell_type": "markdown",
   "id": "41a330c9",
   "metadata": {},
   "source": [
    "Q5. What is the relationship between map calls and list comprehensions? Make a comparison and contrast between the two.\n",
    "\n",
    "    Answer - List comprehension is more concise and easier to read as compared to map. List comprehension are used when a list of results is required as map only returns a map object and does not return any list. Map is faster in case of calling an already defined function (as no lambda is required).\n",
    "    "
   ]
  },
  {
   "cell_type": "code",
   "execution_count": null,
   "id": "8147e396",
   "metadata": {},
   "outputs": [],
   "source": []
  }
 ],
 "metadata": {
  "kernelspec": {
   "display_name": "Python 3",
   "language": "python",
   "name": "python3"
  },
  "language_info": {
   "codemirror_mode": {
    "name": "ipython",
    "version": 3
   },
   "file_extension": ".py",
   "mimetype": "text/x-python",
   "name": "python",
   "nbconvert_exporter": "python",
   "pygments_lexer": "ipython3",
   "version": "3.8.8"
  }
 },
 "nbformat": 4,
 "nbformat_minor": 5
}
