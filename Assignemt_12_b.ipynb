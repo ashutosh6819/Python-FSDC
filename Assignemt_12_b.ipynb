{
 "cells": [
  {
   "cell_type": "markdown",
   "id": "d2f7fe71",
   "metadata": {},
   "source": [
    "1. In what modes should the PdfFileReader() and PdfFileWriter() File objects will be opened?"
   ]
  },
  {
   "cell_type": "markdown",
   "id": "844fd97d",
   "metadata": {},
   "source": [
    "Answer - \n",
    "\n",
    "    PdfFileReader() needs to be opened in read-binary mode by passing 'rb' as the second argument to open(). Likewise, the File object passed to PyPDF2. PdfFileWriter() needs to be opened in write-binary mode with 'wb'."
   ]
  },
  {
   "cell_type": "markdown",
   "id": "ff94ce0b",
   "metadata": {},
   "source": [
    "2. From a PdfFileReader object, how do you get a Page object for page 5?\n"
   ]
  },
  {
   "cell_type": "markdown",
   "id": "0dc044c1",
   "metadata": {},
   "source": [
    "    Answer - PyPDF2.PdfFileReader.getPage()"
   ]
  },
  {
   "cell_type": "markdown",
   "id": "ce1ad657",
   "metadata": {},
   "source": [
    "3. What PdfFileReader variable stores the number of pages in the PDF document?\n"
   ]
  },
  {
   "cell_type": "markdown",
   "id": "6721e6e1",
   "metadata": {},
   "source": [
    "    Answer - PyPDF2.PdfFileReader.getNumPages()"
   ]
  },
  {
   "cell_type": "markdown",
   "id": "f3cb1afa",
   "metadata": {},
   "source": [
    "4. If a PdfFileReader object’s PDF is encrypted with the password swordfish, what must you do before you can obtain Page objects from it?\n",
    "\n",
    "Answer -\n",
    "\n",
    "    pdfReader = PyPDF2.PdfFileReader(open('filename', 'rb'))\n",
    "    pdfReader.decrypt('password')"
   ]
  },
  {
   "cell_type": "markdown",
   "id": "3af33a73",
   "metadata": {},
   "source": [
    "5. What methods do you use to rotate a page?\n",
    "\n",
    "Answer - \n",
    "\n",
    "    pdfReader = PyPDF2.PdfFileReader(open('filename', 'rb'))\n",
    "    pdfReader.getpage().rotateclockwise(digree)"
   ]
  },
  {
   "cell_type": "markdown",
   "id": "f5402927",
   "metadata": {},
   "source": [
    "6. What is the difference between a Run object and a Paragraph object?\n",
    "\n",
    "Answer - \n",
    "\n",
    "     A run is the object most closely associated with inline content; text, pictures, and other items that are flowed between the block-item boundaries within a paragraph.\n",
    "     \n",
    "     Paragraph objects Append a run to this paragraph containing text and having character style identified by style ID style"
   ]
  },
  {
   "cell_type": "markdown",
   "id": "b7f4c765",
   "metadata": {},
   "source": [
    "7. How do you obtain a list of Paragraph objects for a Document object that’s stored in a variable named doc?\n",
    "\n",
    "Answer - \n",
    "\n",
    "    "
   ]
  },
  {
   "cell_type": "markdown",
   "id": "b2db5346",
   "metadata": {},
   "source": [
    "8. What type of object has bold, underline, italic, strike, and outline variables?\n",
    "\n",
    "Answer - \n",
    "\n",
    "    Run object"
   ]
  },
  {
   "cell_type": "markdown",
   "id": "eff2a834",
   "metadata": {},
   "source": [
    "9. What is the difference between False, True, and None for the bold variable?\n",
    "\n",
    "Answer - \n",
    "\n",
    "    True / False are used where the field takes a boolean value. None is used where the field takes an Optional[List]"
   ]
  },
  {
   "cell_type": "markdown",
   "id": "5df35caa",
   "metadata": {},
   "source": [
    "10. How do you create a Document object for a new Word document?\n",
    "\n",
    "Answer - \n",
    "\n",
    "    1. The first step is to install this third-party module python-docx. You can use pip “pip install python-docx” or download the tarball from here. ...\n",
    "\n",
    "    2. After installation import “docx” NOT “python-docx”.\n",
    "\n",
    "    3. Use “docx. Document” class to start working with the word document."
   ]
  },
  {
   "cell_type": "markdown",
   "id": "51c01852",
   "metadata": {},
   "source": [
    "11. How do you add a paragraph with the text &#39;Hello, there!&#39; to a Document object stored in a variable named doc?\n",
    "\n",
    "Answer - \n",
    "\n",
    "    The add_paragraph() document method adds a new paragraph of text to the document and returns a reference to the Paragraph object that was added. When you’re done adding text, pass a filename string to the save() document method to save the Document object to a file.\n",
    "    \n",
    "    import docx\n",
    "    doc = docx.Document()\n",
    "    doc.add_paragraph('hello ')\n",
    "    doc.save('sdf.docx')"
   ]
  },
  {
   "cell_type": "markdown",
   "id": "e581749f",
   "metadata": {},
   "source": [
    "12. What integers represent the levels of headings available in Word documents?\n",
    "\n",
    "Answer - \n",
    "\n",
    "    header 0 - header 4\n",
    "    (0,1,2,3,4)"
   ]
  },
  {
   "cell_type": "code",
   "execution_count": null,
   "id": "c70576a2",
   "metadata": {},
   "outputs": [],
   "source": []
  }
 ],
 "metadata": {
  "kernelspec": {
   "display_name": "Python 3",
   "language": "python",
   "name": "python3"
  },
  "language_info": {
   "codemirror_mode": {
    "name": "ipython",
    "version": 3
   },
   "file_extension": ".py",
   "mimetype": "text/x-python",
   "name": "python",
   "nbconvert_exporter": "python",
   "pygments_lexer": "ipython3",
   "version": "3.8.8"
  }
 },
 "nbformat": 4,
 "nbformat_minor": 5
}
