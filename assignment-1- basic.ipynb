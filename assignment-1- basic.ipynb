{
 "cells": [
  {
   "cell_type": "markdown",
   "id": "f6a6f29a",
   "metadata": {},
   "source": [
    "Q1. In the below elements which of them are values or an expression? eg:- values can be integer or string and expressions will be mathematical operators.\n",
    "           \n",
    "           (1)'hello'\n",
    "           (2)-87.8\n",
    "           (3)-\n",
    "           (4)/\n",
    "           (5)+\n",
    "           (6)6\n",
    "\n",
    "Answer-   \n",
    "           \n",
    "           (1)'hello' -  value(str)\n",
    "\n",
    "           (2) -87.8  -  value(float)\n",
    "       \n",
    "           (3) -      -  expression\n",
    "           \n",
    "           (4) /      -  expression\n",
    "           \n",
    "           (5) +      -  expression\n",
    "           \n",
    "           (6) 6      -  value(int)\n",
    "           \n",
    "           (7) *      - Expression"
   ]
  },
  {
   "cell_type": "markdown",
   "id": "7229f989",
   "metadata": {},
   "source": [
    "Q2. What is the difference between string and variable?\n",
    "\n",
    "Answer- Sting is values inside the quotes assingned , in this we can use to store numarical values and word or both but inside the qoutation \n",
    "\n",
    " variables is that, which stores the value in the primary memory of the computer .It is chosen by us and variables can hold a sring , but the sting can't hold a variable , besically it is container where we can store data."
   ]
  },
  {
   "cell_type": "markdown",
   "id": "a1d5a73c",
   "metadata": {},
   "source": [
    "Q3. Describe three different data types.\n",
    "\n",
    "Answer- The three different data types are \n",
    "\n",
    "    (1) Boolean -\n",
    "    \n",
    "    -It is the data type that provided by the python , which are define by the \"True and False\" keywords\n",
    "    \n",
    "    \n",
    "    (2) Text type; str.-\n",
    "        \n",
    "    Sting is values inside the quotes assingned , in this we can use to store numarical values and word or both but inside the qoutation\n",
    "    \n",
    "        \n",
    "        (3) Numeric type ; int,float :- \n",
    "        \n",
    "        In this data type there are build-in-function as; int,complex. int - integer decode the digits complex - complex number is the combination of real and imaginary components\n",
    "                               "
   ]
  },
  {
   "cell_type": "markdown",
   "id": "bd065515",
   "metadata": {},
   "source": [
    "Q4. What is an expression made up of? What do all expressions do?\n",
    "\n",
    "Answer - An expression is a combination of values , variables , and calls to functions. In other words it is an instruction that combines values and operators and always evaluates down to a single value"
   ]
  },
  {
   "cell_type": "markdown",
   "id": "fa7dff14",
   "metadata": {},
   "source": [
    " Q5. This assignment statements, like spam = 10. What is the difference between an expression and a statement?\n",
    "\n",
    "Answer-\n",
    "Expressions only contain identifiers, literals and operators, where operators include arithmetic and boolean operators where on the other hand statement , are the everything that can make the statement "
   ]
  },
  {
   "cell_type": "markdown",
   "id": "944b0c8e",
   "metadata": {},
   "source": [
    "Q6. After running the following code, what does the variable bacon contain?\n",
    "    \n",
    "    bacon = 22\n",
    "    bacon + 1\n",
    "\n",
    "Answer - 23 "
   ]
  },
  {
   "cell_type": "markdown",
   "id": "eb1cf5ca",
   "metadata": {},
   "source": [
    "Q7. What should the values of the following two terms be?\n",
    "\n",
    "'spam' + 'spamspam'\n",
    "'spam' *3\n",
    "\n",
    "Answer - 'spam' + 'spamspam' = 'spamspamspam'\n",
    "\n",
    "'spam' *3 = 'spamspamspam'"
   ]
  },
  {
   "cell_type": "markdown",
   "id": "57c91a99",
   "metadata": {},
   "source": [
    "8. Why is eggs a valid variable name while 100 is invalid?\n",
    "\n",
    "Answer - eggs is a valid variable name while 100 is not because variable cannot start with numbers"
   ]
  },
  {
   "cell_type": "markdown",
   "id": "e920df75",
   "metadata": {},
   "source": [
    "Q9. What three functions can be used to get the integer, floating-point number, or string\n",
    "    version of a value?\n",
    "    \n",
    "Answer - \n",
    "\n",
    "         integer                 = int();\n",
    "         floating-point number    = float();\n",
    "         string                   = str()"
   ]
  },
  {
   "cell_type": "markdown",
   "id": "ee59b398",
   "metadata": {},
   "source": [
    "Q10. Why does this expression cause an error? How can you fix it?\n",
    "     'i have enten' + 99 + 'burritos'\n",
    "     \n",
    "Answer - It is showing error because string cannot be concatenated with string\n"
   ]
  },
  {
   "cell_type": "code",
   "execution_count": null,
   "id": "d678fe36",
   "metadata": {},
   "outputs": [],
   "source": []
  }
 ],
 "metadata": {
  "kernelspec": {
   "display_name": "Python 3",
   "language": "python",
   "name": "python3"
  },
  "language_info": {
   "codemirror_mode": {
    "name": "ipython",
    "version": 3
   },
   "file_extension": ".py",
   "mimetype": "text/x-python",
   "name": "python",
   "nbconvert_exporter": "python",
   "pygments_lexer": "ipython3",
   "version": "3.8.8"
  }
 },
 "nbformat": 4,
 "nbformat_minor": 5
}
