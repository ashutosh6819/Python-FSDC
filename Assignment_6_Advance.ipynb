{
 "cells": [
  {
   "cell_type": "markdown",
   "id": "47db88c1",
   "metadata": {},
   "source": [
    "Q1. Describe three applications for exception processing.\n",
    "\n",
    "    Asnwer - There are three types of exception—the checked exception, the error and the runtime exception.\n",
    "\n",
    "Q2. What happens if you don't do something extra to treat an exception?\n",
    "\n",
    "    Answer - the output will show error and the will stop working\n",
    "\n",
    "Q3. What are your options for recovering from an exception in your script?\n",
    "\n",
    "    Answer -\n",
    "    1. A single try statement can have multiple except statements.\n",
    "    2. You can also provide a generic except clause, which handles any exception.\n",
    "    3. After the except clause(s), you can include an else-clause. ...\n",
    "    4. The else-block is a good place for code that does not need the try: block's protection.\n",
    "\n",
    "Q4. Describe two methods for triggering exceptions in your script.\n",
    "\n",
    "    Answer - \n",
    "    Try – This method catches the exceptions raised by the program.\n",
    "    \n",
    "    Raise – Triggers an exception manually using custom exceptions.\n",
    "\n",
    "Q5. Identify two methods for specifying actions to be executed at termination time, regardless of whether or not an exception exists.\n",
    "\n",
    "Answer - "
   ]
  },
  {
   "cell_type": "code",
   "execution_count": null,
   "id": "b728614e",
   "metadata": {},
   "outputs": [],
   "source": []
  }
 ],
 "metadata": {
  "kernelspec": {
   "display_name": "Python 3",
   "language": "python",
   "name": "python3"
  },
  "language_info": {
   "codemirror_mode": {
    "name": "ipython",
    "version": 3
   },
   "file_extension": ".py",
   "mimetype": "text/x-python",
   "name": "python",
   "nbconvert_exporter": "python",
   "pygments_lexer": "ipython3",
   "version": "3.8.8"
  }
 },
 "nbformat": 4,
 "nbformat_minor": 5
}
