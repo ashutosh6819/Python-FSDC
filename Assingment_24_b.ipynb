{
 "cells": [
  {
   "cell_type": "markdown",
   "id": "727f79ca",
   "metadata": {},
   "source": [
    "Q1. What is the relationship between def statements and lambda expressions?\n",
    "\n",
    "    Answer - \n",
    "    A lambda is an expression producing a function.\n",
    "    A def is a statement producing a function.\n",
    "\n",
    "Q2. What is the benefit of lambda?\n",
    "\n",
    "    Answer - \n",
    "    The lambda keyword in Python provides a shortcut for declaring small anonymous functions. Lambda functions behave just like regular functions declared with the def keyword. They can be used whenever function objects are required.\n",
    "\n",
    "Q3. Compare and contrast map, filter, and reduce.\n",
    "\n",
    "    Answer - map creates a new array by transforming every element in an array individually. filter creates a new array by removing elements that don't belong. reduce , on the other hand, takes all of the elements in an array and reduces them into a single value.\n",
    "\n",
    "Q4. What are function annotations, and how are they used?\n",
    "\n",
    "    Answer - Function annotations are completely optional both for parameters and return value. Function annotations provide a way of associating various parts of a function with arbitrary python expressions at compile time\n",
    "\n",
    "Q5. What are recursive functions, and how are they used?\n",
    "\n",
    "    Answer - A recursive function is a function that calls itself during its execution. The process may repeat several times, outputting the result and the end of each iteration. The function Count() below uses recursion to count from any number between 1 and 9, to the number 10.\n",
    "\n",
    "Q6. What are some general design guidelines for coding functions?\n",
    "\n",
    "    Answer - Use the function naming rules: lowercase with words separated by underscores as necessary to improve readability. Use one leading underscore only for non-public methods and instance variables. To avoid name clashes with subclasses, use two leading underscores to invoke Python's name mangling rules\n",
    "\n",
    "Q7. Name three or more ways that functions can communicate results to a caller.\n",
    "\n",
    "    Answer - Once a function is created in Python, we can call it by writing function_name() itself or another function/ nested function.\n"
   ]
  },
  {
   "cell_type": "code",
   "execution_count": null,
   "id": "afccb781",
   "metadata": {},
   "outputs": [],
   "source": []
  }
 ],
 "metadata": {
  "kernelspec": {
   "display_name": "Python 3",
   "language": "python",
   "name": "python3"
  },
  "language_info": {
   "codemirror_mode": {
    "name": "ipython",
    "version": 3
   },
   "file_extension": ".py",
   "mimetype": "text/x-python",
   "name": "python",
   "nbconvert_exporter": "python",
   "pygments_lexer": "ipython3",
   "version": "3.8.8"
  }
 },
 "nbformat": 4,
 "nbformat_minor": 5
}
