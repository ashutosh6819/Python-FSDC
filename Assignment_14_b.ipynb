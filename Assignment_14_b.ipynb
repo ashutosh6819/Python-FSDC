{
 "cells": [
  {
   "cell_type": "markdown",
   "id": "d9bd06c6",
   "metadata": {},
   "source": [
    "Q1. What does RGBA stand for?\n",
    "\n",
    "    Answer - RGBA(Red-Green-Blue-Alpha) The format of the RGBA Value.\n",
    "\n",
    "Q2. From the Pillow module, how do you get the RGBA value of any images?\n",
    "\n",
    "    Answer - \n",
    "    \n",
    "    from PIL import Image\n",
    "    filename = \"sample.jpg\"\n",
    "    img = Image. open(filename)\n",
    "    img. show() #Display image.\n",
    "    colors = img. getpixel((320,240)) #Get the RGB values at coordinate x =\n",
    "    #320, y = 240.\n",
    "    print(colors)\n",
    "\n",
    "Q3. What is a box tuple, and how does it work?\n",
    "\n",
    "    Answer - \n",
    "    \n",
    "    Many of Pillow’s functions and methods take a box tuple argument. This means Pillow is expecting a tuple of four integer coordinates that represent a rectangular region in an image. The four integers are, in order, as follows:\n",
    "    \n",
    "    - Left: The x-coordinate of the leftmost edge of the box.\n",
    "\n",
    "    - Top: The y-coordinate of the top edge of the box.\n",
    "\n",
    "    - Right: The x-coordinate of one pixel to the right of the rightmost edge of the box. This integer must be greater than the left integer.\n",
    "\n",
    "    - Bottom: The y-coordinate of one pixel lower than the bottom edge of the box. This integer must be greater than the top integer.\n",
    "\n",
    "Q4. Use your image and load in notebook then, How can you find out the width and height of an Image object?\n",
    "\n",
    "    Answer - \n",
    "    \n",
    "    from PIL import Image\n",
    "    image = Image.open('IMG_20181108_140201.jpg')\n",
    "    width,hight = image.size\n",
    "    print(width,hight)\n",
    "\n",
    "Q5. What method would you call to get Image object for a 100×100 image, excluding the lower-left quarter of it?\n",
    "\n",
    "    Answer - \n",
    "    from PIL import Image\n",
    "    Image.cropIm(())\n",
    "\n",
    "Q6. After making changes to an Image object, how could you save it as an image file?\n",
    "\n",
    "    Answer - Image.save(new_name.jpg)\n",
    "\n",
    "Q7. What module contains Pillow’s shape-drawing code?\n",
    "\n",
    "    Answer - ImageDraw module of the Python image processing library Pillow (PIL) provides many methods for drawing figures, such as circles, squares, and straight lines.\n",
    "\n",
    "Q8. Image objects do not have drawing methods. What kind of object does? How do you get this kind of object?\n",
    "\n",
    "    Answer - ImageDraw module of the Python image processing library Pillow (PIL) provides many methods for drawing figures, such as circles, squares, and straight lines.\n"
   ]
  },
  {
   "cell_type": "code",
   "execution_count": null,
   "id": "0a711469",
   "metadata": {},
   "outputs": [],
   "source": [
    "\n",
    "  "
   ]
  },
  {
   "cell_type": "code",
   "execution_count": null,
   "id": "fa9c54c7",
   "metadata": {},
   "outputs": [],
   "source": []
  }
 ],
 "metadata": {
  "kernelspec": {
   "display_name": "Python 3",
   "language": "python",
   "name": "python3"
  },
  "language_info": {
   "codemirror_mode": {
    "name": "ipython",
    "version": 3
   },
   "file_extension": ".py",
   "mimetype": "text/x-python",
   "name": "python",
   "nbconvert_exporter": "python",
   "pygments_lexer": "ipython3",
   "version": "3.8.8"
  }
 },
 "nbformat": 4,
 "nbformat_minor": 5
}
