{
 "cells": [
  {
   "cell_type": "markdown",
   "id": "8be553ab",
   "metadata": {},
   "source": [
    "Q1. What is the purpose of the try statement?\n",
    "\n",
    "    Answer - The try and except block in Python is used to catch and handle exceptions. Python executes code following the try statement as a “normal” part of the program. The code that follows the except statement is the program's response to any exceptions in the preceding try clause.\n",
    "\n",
    "Q2. What are the two most popular try statement variations?\n",
    "\n",
    "    Answer - Error in Python can be of two types i.e. Syntax errors and Exceptions. Errors are the problems in a program due to which the program will stop the execution\n",
    "\n",
    "Q3. What is the purpose of the raise statement?\n",
    "\n",
    "    Answer - The raise keyword is used to raise an exception. You can define what kind of error to raise, and the text to print to the user.\n",
    "\n",
    "Q4. What does the assert statement do, and what other statement is it like?\n",
    "\n",
    "    Answer - assert statement takes an expression and optional message. assert statement is used to check types, values of argument and the output of the function.\n",
    "\n",
    "Q5. What is the purpose of the with/as argument, and what other statement is it like?\n",
    "\n",
    "    Answer - with statement in Python is used in exception handling to make the code cleaner and much more readable. It simplifies the management of common resources like file streams."
   ]
  },
  {
   "cell_type": "code",
   "execution_count": null,
   "id": "c7540048",
   "metadata": {},
   "outputs": [],
   "source": []
  }
 ],
 "metadata": {
  "kernelspec": {
   "display_name": "Python 3",
   "language": "python",
   "name": "python3"
  },
  "language_info": {
   "codemirror_mode": {
    "name": "ipython",
    "version": 3
   },
   "file_extension": ".py",
   "mimetype": "text/x-python",
   "name": "python",
   "nbconvert_exporter": "python",
   "pygments_lexer": "ipython3",
   "version": "3.8.8"
  }
 },
 "nbformat": 4,
 "nbformat_minor": 5
}
