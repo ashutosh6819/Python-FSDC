{
 "cells": [
  {
   "cell_type": "markdown",
   "id": "3425c6b0",
   "metadata": {},
   "source": [
    "Q1. Which two operator overloading methods can you use in your classes to support iteration?\n",
    "\n",
    "    Answer - The __iter__ returns the iterator object and is implicitly called at the start of loops. The __next__ method returns the next value and is implicitly called at each loop increment.\n",
    "\n",
    "Q2. In what contexts do the two operator overloading methods manage printing?\n",
    "\n",
    "    Answer - \n",
    "\n",
    "Q3. In a class, how do you intercept slice operations?\n",
    "\n",
    "    Answer - \"setslice\" and \"delslice\" are deprecated, if you want to do the interception you need to work with python slice objects passed to \"setitem\" and \"delitem\". \n",
    "\n",
    "Q4. In a class, how do you capture in-place addition?\n",
    "\n",
    "    Answer - iadd() This function is used to assign the current value and add them.\n",
    "\n",
    "Q5. When is it appropriate to use operator overloading?\n",
    "\n",
    "    Answer - Operator overloading is mostly useful when you're making a new class that falls into an existing \"Abstract Base Class\" (ABC) "
   ]
  }
 ],
 "metadata": {
  "kernelspec": {
   "display_name": "Python 3",
   "language": "python",
   "name": "python3"
  },
  "language_info": {
   "codemirror_mode": {
    "name": "ipython",
    "version": 3
   },
   "file_extension": ".py",
   "mimetype": "text/x-python",
   "name": "python",
   "nbconvert_exporter": "python",
   "pygments_lexer": "ipython3",
   "version": "3.8.8"
  }
 },
 "nbformat": 4,
 "nbformat_minor": 5
}
