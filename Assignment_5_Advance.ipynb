{
 "cells": [
  {
   "cell_type": "markdown",
   "id": "c10cb71f",
   "metadata": {},
   "source": [
    "Q1. What is the meaning of multiple inheritance?\n",
    "\n",
    "    Answer - When a class is derived from more than one base class it is called multiple Inheritance. The derived class inherits all the features of the base case\n",
    "\n",
    "Q2. What is the concept of delegation?\n",
    "\n",
    "    Answer - the delegation pattern is an object-oriented design pattern that allows object composition to achieve the same code reuse as inheritance.” If you read that sentence four or five times you might get it but let me try to make it simpler\n",
    "\n",
    "Q3. What is the concept of composition?\n",
    "\n",
    "    Answer - Composition is a concept that models a has a relationship. It enables creating complex types by combining objects of other types. This means that a class Composite can contain an object of another class Component . This relationship means that a Composite has a Component .\n",
    "\n",
    "Q4. What are bound methods and how do we use them?\n",
    "\n",
    "    Answer - A bound method is the one which is dependent on the instance of the class as the first argument. It passes the instance as the first argument which is used to access the variables and functions.\n",
    "\n",
    "Q5. What is the purpose of pseudoprivate attributes?\n",
    "\n",
    "    Answer - This is sometimes misleadingly called private attributes really, it's just a way to localize a name to the class that created it, and does not prevent access by code outside the class. That is, this feature is mostly intended to avoid namespace collisions in instances, not to restrict access to names in general."
   ]
  },
  {
   "cell_type": "code",
   "execution_count": null,
   "id": "f5895f20",
   "metadata": {},
   "outputs": [],
   "source": []
  }
 ],
 "metadata": {
  "kernelspec": {
   "display_name": "Python 3",
   "language": "python",
   "name": "python3"
  },
  "language_info": {
   "codemirror_mode": {
    "name": "ipython",
    "version": 3
   },
   "file_extension": ".py",
   "mimetype": "text/x-python",
   "name": "python",
   "nbconvert_exporter": "python",
   "pygments_lexer": "ipython3",
   "version": "3.8.8"
  }
 },
 "nbformat": 4,
 "nbformat_minor": 5
}
