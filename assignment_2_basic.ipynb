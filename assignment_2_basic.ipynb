{
 "cells": [
  {
   "cell_type": "markdown",
   "id": "f380cb04",
   "metadata": {},
   "source": [
    "Q1.What are the two values of the Boolean data type? How do you write them?\n",
    "\n",
    "Answer - True and False are the two boolean data type and we write in the value of 1 and 0 where True = 1 and False = 0."
   ]
  },
  {
   "cell_type": "markdown",
   "id": "3db75b8c",
   "metadata": {},
   "source": [
    "Q2.What are the three different types of Boolean operators?\n",
    "\n",
    "Answer - And , or , not ."
   ]
  },
  {
   "cell_type": "markdown",
   "id": "4dd79da9",
   "metadata": {},
   "source": [
    "Q3. Make a list of each Boolean operator's truth tables (i.e. every possible combination of Boolean\n",
    "    values for the operator and what it evaluate ).\n",
    "\n",
    "Answer - True - 1 where, False = 0\n",
    "\n",
    "         so,\n",
    "         \n",
    "         boolean operator's truth table\n",
    "         \n",
    "         and (-)\n",
    "         \n",
    "         0 - 1 = 0\n",
    "         1 - 1 = 1\n",
    "         0 - 0 = 0\n",
    "         1 - 0 = 0\n",
    "         \n",
    "         or (-)\n",
    "         \n",
    "         0 - 1 = 1\n",
    "         1 - 1 = 1\n",
    "         0 - 0 = 0\n",
    "         1 - 0 = 1\n",
    "         \n",
    "         not (~)\n",
    "         \n",
    "         ~ 0 = 1 \n",
    "         ~ 1 = 0\n",
    "         \n",
    "         "
   ]
  },
  {
   "cell_type": "markdown",
   "id": "d812cc23",
   "metadata": {},
   "source": [
    "4. What are the values of the following expressions?\n",
    "\n",
    "        (5 > 4) and (3 == 5)\n",
    "        not (5 > 4)\n",
    "        (5 > 4) or (3 == 5)\n",
    "        not ((5 > 4) or (3 == 5))\n",
    "        (True and True) and (True == False)\n",
    "        (not False) or (not True)\n",
    " \n",
    " Answer -  \n",
    "  \n",
    "        (5 > 4) and (3 == 5)                 -   False\n",
    "        not (5 > 4)                          -   False\n",
    "        (5 > 4) or (3 == 5)                  -   False\n",
    "        not ((5 > 4) or (3 == 5))            -   True\n",
    "        (True and True) and (True == False)  -   False\n",
    "        (not False) or (not True)            -   True\n",
    "        "
   ]
  },
  {
   "cell_type": "markdown",
   "id": "2f1685ca",
   "metadata": {},
   "source": [
    "Q5. What are the six comparison operators?\n",
    "\n",
    "Answer -\n",
    "\n",
    "           ==   - is equal to\n",
    "           !=   - is not equal to\n",
    "           >    - is greater than\n",
    "           <    - is less than\n",
    "           >=   - is greater than or equal to \n",
    "           <=   - is less than or equal to"
   ]
  },
  {
   "cell_type": "markdown",
   "id": "ada0616d",
   "metadata": {},
   "source": [
    "Q6. How do you tell the difference between the equal to and assignment operators?Describe a\n",
    "     condition and when you would use one.\n",
    "     \n",
    "Answer -\n",
    "\n",
    "      In the assignment operators(=) we use to assign the value to a varialble and in the equal to operator(==) we use to\n",
    "      check or for comparision.\n",
    "      \n",
    "     "
   ]
  },
  {
   "cell_type": "markdown",
   "id": "4f81beaf",
   "metadata": {},
   "source": [
    "Q7. Identify the three blocks in this code:\n",
    "\n",
    "    spam = 0\n",
    "    if spam == 10:\n",
    "        print(\"eggs\")\n",
    "    if spam > 5:\n",
    "        print(\"bacon\")\n",
    "    else:\n",
    "        print(\"ham\")\n",
    "        print(\"spam\")\n",
    "        print(\"spam\")\n",
    "        \n",
    "Answer -   the three blocks in this code are\n",
    "           if , if ,else\n",
    "           "
   ]
  },
  {
   "cell_type": "code",
   "execution_count": 6,
   "id": "7cf1c718",
   "metadata": {},
   "outputs": [
    {
     "name": "stdout",
     "output_type": "stream",
     "text": [
      "chose the number  - 1\n",
      "Hello\n"
     ]
    }
   ],
   "source": [
    "\"\"\"Q8. Write code that prints Hello if 1 is stored in spam, \n",
    "prints Howdy if 2 is stored in spam, and print Greetings!\n",
    "if anything else is stored in spam.\"\"\"\n",
    "    \n",
    "#Answer - \n",
    " \n",
    "spam = int(input(\"chose the number  - \"))\n",
    "if spam == 1:\n",
    "    print(\"Hello\")\n",
    "elif spam == 2:\n",
    "    print(\"Howdy\")\n",
    "else:\n",
    "    print(\"Greeting!\")\n",
    "\n"
   ]
  },
  {
   "cell_type": "markdown",
   "id": "1c0bb42b",
   "metadata": {},
   "source": [
    "Q9.If your programme is stuck in an endless loop, what keys you’ll press?\n",
    "\n",
    "Answer - 'Interrupt the kenel'."
   ]
  },
  {
   "cell_type": "markdown",
   "id": "73c4f109",
   "metadata": {},
   "source": [
    "Q10. How can you tell the difference between break and continue\n",
    "\n",
    "Answer - "
   ]
  },
  {
   "cell_type": "markdown",
   "id": "efb7a4ba",
   "metadata": {},
   "source": [
    "Q11. In a for loop, what is the difference between range(10), range(0, 10), and range(0, 10, 1)?\n",
    "\n",
    "Answer - there will be no difference while between these three."
   ]
  },
  {
   "cell_type": "code",
   "execution_count": 4,
   "id": "5e5a85c3",
   "metadata": {},
   "outputs": [
    {
     "name": "stdout",
     "output_type": "stream",
     "text": [
      "for_loop\n",
      "1 2 3 4 5 6 7 8 9 10 \n",
      "while_loop\n",
      "1 2 3 4 5 6 7 8 9 10 "
     ]
    }
   ],
   "source": [
    "#Q12. Write a short program that prints the numbers 1 to 10 using a for loop. Then write an equivalent program that prints the numbers 1 to 10 using a while loop.\n",
    "\n",
    "#Answer - \n",
    "\n",
    "print(\"for_loop\")\n",
    "\n",
    "for i in range(1,11):\n",
    "    print(i,end=\" \")\n",
    "print('')\n",
    "\n",
    "\n",
    "print(\"while_loop\") \n",
    "\n",
    "\n",
    "z = 10 \n",
    "i = 0\n",
    "while i<z :\n",
    "    i = i+1\n",
    "    print(i,end=\" \")\n",
    "    "
   ]
  },
  {
   "cell_type": "markdown",
   "id": "1ff601eb",
   "metadata": {},
   "source": [
    "13. If you had a function named bacon() inside a module named spam, how would you call it after\n",
    "importing spam?\n",
    "\n",
    "Answer -\n",
    "\n",
    "    A = spam\n",
    "    A.bacon()"
   ]
  },
  {
   "cell_type": "code",
   "execution_count": null,
   "id": "f3ef2316",
   "metadata": {},
   "outputs": [],
   "source": []
  }
 ],
 "metadata": {
  "kernelspec": {
   "display_name": "Python 3",
   "language": "python",
   "name": "python3"
  },
  "language_info": {
   "codemirror_mode": {
    "name": "ipython",
    "version": 3
   },
   "file_extension": ".py",
   "mimetype": "text/x-python",
   "name": "python",
   "nbconvert_exporter": "python",
   "pygments_lexer": "ipython3",
   "version": "3.8.8"
  }
 },
 "nbformat": 4,
 "nbformat_minor": 5
}
