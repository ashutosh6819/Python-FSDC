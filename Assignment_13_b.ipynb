{
 "cells": [
  {
   "cell_type": "markdown",
   "id": "a0c280f1",
   "metadata": {},
   "source": [
    "Q1. What advantages do Excel spreadsheets have over CSV spreadsheets?\n",
    "\n",
    "    Answer - \n",
    "    1. Excel can perform VBA Coding, functions, formulas and create summaries easily when compared to CSV.CSV cannot perform VBA Coding, functions, formulas and create summaries easily when compared to Excel.\n",
    "    \n",
    "    2. Reading large data set is much easier for the end-user to read, comprehend and understand when compared to CSV.\tReading large data set is much complicated for the end-user to read, comprehend and understand when compared to Excel.\n",
    "    \n",
    "    3. Excel also provides the user option for external linking of data from other sources, and also, the user can do custom add-ins.\tNo such feature is available in CSV format when it is compared with Excel.\n",
    "\n",
    "Q2.What do you pass to csv.reader() and csv.writer() to create reader and writer objects?\n",
    "\n",
    "    Answer -  the csv.reader() is used to read the file, which returns an iterable reader object.\n",
    "    \n",
    "    The csv.writer() function returns a writer object that converts the user's data into a delimited string. This string can later be used to write into CSV files using the writerow() function.\n",
    "\n",
    "Q3. What modes do File objects for reader and writer objects need to be opened in?\n",
    "\n",
    "    Answer - \n",
    "    \n",
    "    for reader and writer objects need to be opened in - \n",
    "    open('filename',r+)\n",
    "\n",
    "Q4. What method takes a list argument and writes it to a CSV file?\n",
    "\n",
    "    Answer - writerows() is the method takes a list argument and writes it to a csv file.\n",
    "\n",
    "Q5. What do the keyword arguments delimiter and line terminator do?\n",
    "\n",
    "    Answer - The line terminator is the character that comes at the end of a row. By default, the line terminator is a newline. You can change characters to different values by using the delimiter and line terminator keyword arguments with csv. writer().\n",
    "\n",
    "Q6. What function takes a string of JSON data and returns a Python data structure?\n",
    "\n",
    "    Answer - json.loads() method return Python data structure of JSON string or data.\n",
    "\n",
    "Q7. What function takes a Python data structure and returns a string of JSON data?\n",
    "\n",
    "    Answer - json.loads() method return Python data structure of JSON string or data."
   ]
  },
  {
   "cell_type": "code",
   "execution_count": null,
   "id": "82552faf",
   "metadata": {},
   "outputs": [],
   "source": []
  }
 ],
 "metadata": {
  "kernelspec": {
   "display_name": "Python 3",
   "language": "python",
   "name": "python3"
  },
  "language_info": {
   "codemirror_mode": {
    "name": "ipython",
    "version": 3
   },
   "file_extension": ".py",
   "mimetype": "text/x-python",
   "name": "python",
   "nbconvert_exporter": "python",
   "pygments_lexer": "ipython3",
   "version": "3.8.8"
  }
 },
 "nbformat": 4,
 "nbformat_minor": 5
}
