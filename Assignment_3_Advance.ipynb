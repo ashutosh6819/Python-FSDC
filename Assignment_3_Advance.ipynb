{
 "cells": [
  {
   "cell_type": "markdown",
   "id": "22b26b95",
   "metadata": {},
   "source": [
    "Q1. What is the concept of an abstract superclass?\n",
    "\n",
    "    Answer - A class is called an Abstract class if it contains one or more abstract methods. An abstract method is a method that is declared, but contains no implementation. Abstract classes may not be instantiated, and its abstract methods must be implemented by its subclasses.\n",
    "\n",
    "Q2. What happens when a class statement&#39;s top level contains a basic assignment statement?\n",
    "\n",
    "    Answer - Then if you pass new value it will be updated with the new one\n",
    "\n",
    "Q3. Why does a class need to manually call a superclass&#39;s __init__ method?\n",
    "\n",
    "    Answer - It's because one needs to define something that is NOT done in the base-class' __init__ , and the only possibility to obtain that is to put its execution in a derived-class' __init__ function\n",
    "\n",
    "Q4. How can you augment, instead of completely replacing, an inherited method?\n",
    "\n",
    "    Answer - Defining in the child class a method with the same name of a method in the parent class.When you define a method in the object you make this latter able to satisfy that method call, so the implementations of its ancestors do not come in play.\n",
    "\n",
    "Q5. How is the local scope of a class different from that of a function?\n",
    "\n",
    "    Answer - Declaring a variable in a class (outside of a function): all class functions can access it (basically a public variable)\n",
    "\n",
    "    Declaring a variable inside a function inside a class: only that function can access it (it's in that function's scope)"
   ]
  },
  {
   "cell_type": "code",
   "execution_count": null,
   "id": "ddd98106",
   "metadata": {},
   "outputs": [],
   "source": []
  }
 ],
 "metadata": {
  "kernelspec": {
   "display_name": "Python 3",
   "language": "python",
   "name": "python3"
  },
  "language_info": {
   "codemirror_mode": {
    "name": "ipython",
    "version": 3
   },
   "file_extension": ".py",
   "mimetype": "text/x-python",
   "name": "python",
   "nbconvert_exporter": "python",
   "pygments_lexer": "ipython3",
   "version": "3.8.8"
  }
 },
 "nbformat": 4,
 "nbformat_minor": 5
}
